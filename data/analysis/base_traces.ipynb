{
 "cells": [
  {
   "cell_type": "code",
   "execution_count": 17,
   "metadata": {},
   "outputs": [
    {
     "name": "stdout",
     "output_type": "stream",
     "text": [
      "The autoreload extension is already loaded. To reload it, use:\n",
      "  %reload_ext autoreload\n"
     ]
    }
   ],
   "source": [
    "%load_ext autoreload\n",
    "%autoreload 2\n",
    "%matplotlib inline\n",
    "import pandas as pd\n",
    "import numpy as np\n",
    "from pathlib import Path\n",
    "import swifter # used even though marked as unused, do not delete \n",
    "from utils.fltrace_classes import *\n",
    "from utils.constants import *\n",
    "from utils.prepro import *\n",
    "from plotters import plotter\n",
    "import matplotlib.pyplot as plt\n",
    "from itertools import chain\n",
    "from utils.graphs import get_connection_graph,get_sink_source_stats\n",
    "from networkx import write_gml\n",
    "from concurrent.futures import ProcessPoolExecutor as Pool\n",
    "from functools import partial\n",
    "import seaborn as sns"
   ]
  },
  {
   "cell_type": "code",
   "execution_count": 12,
   "metadata": {},
   "outputs": [],
   "source": [
    "PARENT_DIR = \"/home/garvalov/mlp2/data/data/parsec_raw_out/\"\n",
    "OBJDUMP_FOLDER_PATH = \"../data/objdumps/\"\n",
    "\n",
    "PARENT_OUTS = \"outs/zoomed_in/\"\n",
    "NM = \"nm/\"\n",
    "\n",
    "GRAPH_OUT = PARENT_OUTS+\"graphs/\"\n",
    "TIMELINE_OUT = PARENT_OUTS+\"timelines/\"\n",
    "\n",
    "GRAPH_NM = GRAPH_OUT+NM\n",
    "TIMELINE_NM = TIMELINE_OUT+NM\n",
    "FILE_SAVETYPE_EXTENSION = \".pdf\"\n"
   ]
  },
  {
   "cell_type": "code",
   "execution_count": 25,
   "metadata": {},
   "outputs": [],
   "source": [
    "\n",
    "def process_grandchild(bn,grandchild):\n",
    "    #graph_out_path = Path(GRAPH_OUT)\n",
    "    tl_out_path = Path(TIMELINE_OUT)\n",
    "    tl_out_path.mkdir(parents=True,exist_ok=True)\n",
    "    #nm_graph_out_path = Path(GRAPH_NM)\n",
    "    #nm_tl_out_path = Path(TIMELINE_NM)\n",
    "    #graph_out_path.mkdir(parents=True,exist_ok=True)\n",
    "    #nm_graph_out_path.mkdir(parents=True,exist_ok=True)\n",
    "    #nm_tl_out_path.mkdir(parents=True,exist_ok=True)\n",
    "\n",
    "    print(f\"Starting processing of {bn}'s {grandchild}\")\n",
    "    check_correct_dir_str(grandchild)\n",
    "    grand_child_errorstr_prefix = f\"Grandchild {grandchild.absolute().as_posix()}\"\n",
    "    dir_name = grandchild.name\n",
    "    assert \"_\" in dir_name, (grand_child_errorstr_prefix + \"does not contain '_' in its name\")\n",
    "    m,l = splitted_name = dir_name.split(sep='_')\n",
    "    assert len(splitted_name) == 2, (grand_child_errorstr_prefix + \"contains more than 1 '_' in its name\")\n",
    "    assert splitted_name[0].isnumeric() and splitted_name[1].isnumeric(), (\"The M/L values of \"+ grand_child_errorstr_prefix + \"are not numbers\")\n",
    "    \n",
    "    pids_to_procmaps_path = {}\n",
    "    \n",
    "    for trace_output in sorted(grandchild.iterdir(),reverse=True):\n",
    "        trace_output: Path = trace_output\n",
    "        assert trace_output.is_file()\n",
    "        fname = trace_output.stem\n",
    "        assert len(fname) > 0\n",
    "        if fname[0] == \".\":\n",
    "            # Ignore hidden files\n",
    "            continue\n",
    "        assert fname.startswith(FLTRACE_OUTPUT_PREFIX), f\"{trace_output.absolute().as_posix()} is not correctly prefixed\"\n",
    "        assert trace_output.suffix == FLTRACE_OUTPUT_SUFFIX, f\"{trace_output.absolute().as_posix()} is not correctly suffixed\"\n",
    "        splitted_fname = fname.split(\"-\")\n",
    "        pid = int(splitted_fname[-2 if \"faults\" in fname else -1])\n",
    "        filetype = splitted_fname[2]\n",
    "        if filetype == \"stats\":\n",
    "            continue\n",
    "        elif filetype == \"procmaps\":\n",
    "            pids_to_procmaps_path[pid] = trace_output\n",
    "        elif filetype == \"faults\":\n",
    "            assert pid in pids_to_procmaps_path.keys(), f\"Received faults before procmaps here {trace_output.as_posix()}: are procmaps missing?\"\n",
    "            procmap_path = pids_to_procmaps_path[pid]\n",
    "            runid = RunIdentifier(bn,int(m),int(l),pid)\n",
    "            pct = round(int(100*runid.l/runid.m) / 25) * 25\n",
    "            df = pd.read_csv(trace_output.as_posix())\n",
    "            print(f\"Loaded data for {runid}. Starting preprocessing.\")\n",
    "            df,epci = single_preprocess(runid,df, procmap_path,use_ints=True)\n",
    "            print(f\"Finished preprocessing data for {runid}%.\")\n",
    "            \n",
    "            fig = plt.figure(figsize=(12, 6), dpi=100)\n",
    "            ax = fig.add_subplot(111)\n",
    "\n",
    "            # Plot scatter points\n",
    "            pastel_blue = '#A7C7E7'  # Light blue\n",
    "            pastel_edge = '#6B94B5'  # Slightly darker blue for edges\n",
    "            ax.scatter(df.index, df[\"addr\"], \n",
    "                    color=pastel_blue,\n",
    "                    alpha=0.8, \n",
    "                    s=30,\n",
    "                    edgecolor=pastel_edge,\n",
    "                    linewidth=0.5,\n",
    "                    rasterized=True,\n",
    "                    zorder=2)\n",
    "\n",
    "            # Configure grid\n",
    "            ax.grid(True, linestyle='--', alpha=0.7, color='#E6E6E6')\n",
    "\n",
    "            # Format y-axis to show hex values\n",
    "            def hex_formatter(x, p):\n",
    "                return f\"0x{int(x):x}\"\n",
    "            ax.yaxis.set_major_formatter(plt.FuncFormatter(hex_formatter))\n",
    "\n",
    "            # Customize labels and title\n",
    "            ax.set_xlabel(\"Time\", fontsize=10, fontweight='medium')\n",
    "            ax.set_ylabel(\"Memory Address\", fontsize=10, fontweight='medium')\n",
    "            ax.set_title(f\"Page Fault Trace - {runid.program_name} {pct}%\", \n",
    "                        fontsize=12, \n",
    "                        fontweight='bold',\n",
    "                        pad=20)\n",
    "\n",
    "            # Rotate x-axis labels\n",
    "            ax.tick_params(axis='x', rotation=45)\n",
    "\n",
    "            # Set background color\n",
    "            ax.set_facecolor('#F8F8F8')\n",
    "            fig.patch.set_facecolor('white')\n",
    "\n",
    "            # Save figure\n",
    "            fig.tight_layout()\n",
    "            fig.savefig((tl_out_path/str(runid)).absolute().as_posix()+\".pdf\", \n",
    "                        bbox_inches='tight', \n",
    "                        dpi=300)\n",
    "            plt.close(fig)\n",
    "\n",
    "            return \"ok\"\n",
    "        else:\n",
    "            raise LookupError(f\"While looking at {bn}, found the following file in one of the grandchildren which doesn't seem to be the output of fltrace: {trace_output.absolute().as_posix()}\")\n",
    "\n",
    "def process_path(args):\n",
    "   benchmark_name, grandchild = args\n",
    "   process_grandchild(benchmark_name, grandchild)\n",
    "\n",
    "def check_correct_children(path_to_child: Path):\n",
    "    check_correct_dir_str(path_to_child)\n",
    "    benchmark_name = path_to_child.name\n",
    "    if \"canneal\" not in benchmark_name:\n",
    "        return\n",
    "    with Pool(4) as pool:\n",
    "        args = [(path_to_child.name, gc) for gc in path_to_child.iterdir()]\n",
    "        pool.map(process_path, args)\n",
    "    print(f\"All checks pass for {benchmark_name}.\")"
   ]
  },
  {
   "cell_type": "code",
   "execution_count": 26,
   "metadata": {},
   "outputs": [
    {
     "name": "stdout",
     "output_type": "stream",
     "text": [
      "Starting processing of facesim's /home/garvalov/mlp2/data/data/parsec_raw_out/facesim/500_125\n",
      "Loaded data for facesim_500_125_62702. Starting preprocessing.\n"
     ]
    },
    {
     "data": {
      "application/vnd.jupyter.widget-view+json": {
       "model_id": "e6446636cbd94558b4f19ededbf61a0d",
       "version_major": 2,
       "version_minor": 0
      },
      "text/plain": [
       "Translating iphex to int:   0%|          | 0/211357 [00:00<?, ?it/s]"
      ]
     },
     "metadata": {},
     "output_type": "display_data"
    },
    {
     "data": {
      "application/vnd.jupyter.widget-view+json": {
       "model_id": "53deea5348334463a4afa341c1543613",
       "version_major": 2,
       "version_minor": 0
      },
      "text/plain": [
       "Splitting and translating st:   0%|          | 0/211357 [00:00<?, ?it/s]"
      ]
     },
     "metadata": {},
     "output_type": "display_data"
    },
    {
     "name": "stdout",
     "output_type": "stream",
     "text": [
      "Inspect! facesim 125/500: # of weird ips is 6/211357\n",
      "Splitting stacktraces (can take several minutes)\n"
     ]
    },
    {
     "name": "stderr",
     "output_type": "stream",
     "text": [
      "Finding all ip librairies..: 100%|██████████| 1349/1349 [00:00<00:00, 444890.40it/s]\n"
     ]
    },
    {
     "data": {
      "application/vnd.jupyter.widget-view+json": {
       "model_id": "00e21d2b868a4731a139b29e52f3e79d",
       "version_major": 2,
       "version_minor": 0
      },
      "text/plain": [
       "Removing all ips before fltrace:   0%|          | 0/210527 [00:00<?, ?it/s]"
      ]
     },
     "metadata": {},
     "output_type": "display_data"
    },
    {
     "data": {
      "application/vnd.jupyter.widget-view+json": {
       "model_id": "c039cf63ba854246a56575cc5b88dfce",
       "version_major": 2,
       "version_minor": 0
      },
      "text/plain": [
       "Translating addrhex to int:   0%|          | 0/210527 [00:00<?, ?it/s]"
      ]
     },
     "metadata": {},
     "output_type": "display_data"
    },
    {
     "name": "stdout",
     "output_type": "stream",
     "text": [
      "Finished preprocessing data for facesim_500_125_62702%.\n",
      "Starting processing of canneal's /home/garvalov/mlp2/data/data/parsec_raw_out/canneal/200_100\n",
      "Loaded data for canneal_200_100_59559. Starting preprocessing.\n"
     ]
    },
    {
     "data": {
      "application/vnd.jupyter.widget-view+json": {
       "model_id": "4e6b0ec77e8a4bf6bcabad525a7b4f70",
       "version_major": 2,
       "version_minor": 0
      },
      "text/plain": [
       "Translating iphex to int:   0%|          | 0/296847 [00:00<?, ?it/s]"
      ]
     },
     "metadata": {},
     "output_type": "display_data"
    },
    {
     "data": {
      "application/vnd.jupyter.widget-view+json": {
       "model_id": "cdcd87de89884114ade19779ae530413",
       "version_major": 2,
       "version_minor": 0
      },
      "text/plain": [
       "Splitting and translating st:   0%|          | 0/296847 [00:00<?, ?it/s]"
      ]
     },
     "metadata": {},
     "output_type": "display_data"
    },
    {
     "name": "stdout",
     "output_type": "stream",
     "text": [
      "Inspect! canneal 100/200: # of weird ips is 4/296847\n",
      "Splitting stacktraces (can take several minutes)\n"
     ]
    },
    {
     "name": "stderr",
     "output_type": "stream",
     "text": [
      "Finding all ip librairies..: 100%|██████████| 477/477 [00:00<00:00, 295696.57it/s]\n"
     ]
    },
    {
     "data": {
      "application/vnd.jupyter.widget-view+json": {
       "model_id": "670467f339054ade8fb27ab2ee7ad8b2",
       "version_major": 2,
       "version_minor": 0
      },
      "text/plain": [
       "Removing all ips before fltrace:   0%|          | 0/294137 [00:00<?, ?it/s]"
      ]
     },
     "metadata": {},
     "output_type": "display_data"
    },
    {
     "data": {
      "application/vnd.jupyter.widget-view+json": {
       "model_id": "f6500cbc85a94945b622526d5e4cdfbc",
       "version_major": 2,
       "version_minor": 0
      },
      "text/plain": [
       "Translating addrhex to int:   0%|          | 0/294137 [00:00<?, ?it/s]"
      ]
     },
     "metadata": {},
     "output_type": "display_data"
    },
    {
     "name": "stdout",
     "output_type": "stream",
     "text": [
      "Finished preprocessing data for canneal_200_100_59559%.\n"
     ]
    },
    {
     "data": {
      "text/plain": [
       "'ok'"
      ]
     },
     "execution_count": 26,
     "metadata": {},
     "output_type": "execute_result"
    }
   ],
   "source": [
    "TO_PROCESS_FACESIM = \"/home/garvalov/mlp2/data/data/parsec_raw_out/facesim/500_125\"\n",
    "TO_PROCESS_CANNEAL = \"/home/garvalov/mlp2/data/data/parsec_raw_out/canneal/200_100\"\n",
    "process_grandchild(\"facesim\",Path(TO_PROCESS_FACESIM))\n",
    "process_grandchild(\"canneal\",Path(TO_PROCESS_CANNEAL))"
   ]
  },
  {
   "cell_type": "code",
   "execution_count": 27,
   "metadata": {},
   "outputs": [],
   "source": [
    "def process_grandchild(bn, grandchild):\n",
    "    tl_out_path = Path(TIMELINE_OUT)\n",
    "    tl_out_path.mkdir(parents=True, exist_ok=True)\n",
    "    \n",
    "    print(f\"Starting processing of {bn}'s {grandchild}\")\n",
    "    check_correct_dir_str(grandchild)\n",
    "    grand_child_errorstr_prefix = f\"Grandchild {grandchild.absolute().as_posix()}\"\n",
    "    dir_name = grandchild.name\n",
    "    assert \"_\" in dir_name, (grand_child_errorstr_prefix + \"does not contain '_' in its name\")\n",
    "    m,l = splitted_name = dir_name.split(sep='_')\n",
    "    assert len(splitted_name) == 2, (grand_child_errorstr_prefix + \"contains more than 1 '_' in its name\")\n",
    "    assert splitted_name[0].isnumeric() and splitted_name[1].isnumeric(), (\"The M/L values of \"+ grand_child_errorstr_prefix + \"are not numbers\")\n",
    "    \n",
    "    pids_to_procmaps_path = {}\n",
    "    \n",
    "    for trace_output in sorted(grandchild.iterdir(), reverse=True):\n",
    "        trace_output: Path = trace_output\n",
    "        assert trace_output.is_file()\n",
    "        fname = trace_output.stem\n",
    "        assert len(fname) > 0\n",
    "        if fname[0] == \".\":\n",
    "            # Ignore hidden files\n",
    "            continue\n",
    "        assert fname.startswith(FLTRACE_OUTPUT_PREFIX), f\"{trace_output.absolute().as_posix()} is not correctly prefixed\"\n",
    "        assert trace_output.suffix == FLTRACE_OUTPUT_SUFFIX, f\"{trace_output.absolute().as_posix()} is not correctly suffixed\"\n",
    "        splitted_fname = fname.split(\"-\")\n",
    "        pid = int(splitted_fname[-2 if \"faults\" in fname else -1])\n",
    "        filetype = splitted_fname[2]\n",
    "        if filetype == \"stats\":\n",
    "            continue\n",
    "        elif filetype == \"procmaps\":\n",
    "            pids_to_procmaps_path[pid] = trace_output\n",
    "        elif filetype == \"faults\":\n",
    "            assert pid in pids_to_procmaps_path.keys(), f\"Received faults before procmaps here {trace_output.as_posix()}: are procmaps missing?\"\n",
    "            procmap_path = pids_to_procmaps_path[pid]\n",
    "            runid = RunIdentifier(bn, int(m), int(l), pid)\n",
    "            pct = round(int(100*runid.l/runid.m) / 25) * 25\n",
    "            df = pd.read_csv(trace_output.as_posix())\n",
    "            print(f\"Loaded data for {runid}. Starting preprocessing.\")\n",
    "            df, epci = single_preprocess(runid, df, procmap_path, use_ints=True)\n",
    "            print(f\"Finished preprocessing data for {runid}%.\")\n",
    "            \n",
    "            # Set style for better-looking plots\n",
    "            plt.style.use('seaborn-v0_8')\n",
    "            \n",
    "            # Create figure with a pleasant size\n",
    "            fig = plt.figure(figsize=(12, 6), dpi=100)\n",
    "            ax = fig.add_subplot(111)\n",
    "            \n",
    "            # Filter data for the zoom range\n",
    "            mask = (df.index >= 100000) & (df.index <= 100300)\n",
    "            zoom_df = df[mask]\n",
    "            \n",
    "            # Plot scatter with connecting lines using a pastel color\n",
    "            pastel_blue = '#A7C7E7'  # Light blue\n",
    "            pastel_edge = '#6B94B5'  # Slightly darker blue for edges\n",
    "            \n",
    "            # Plot the connecting lines first\n",
    "            ax.plot(zoom_df.index, zoom_df[\"addr\"], \n",
    "                   color=pastel_edge, \n",
    "                   linewidth=0.5, \n",
    "                   alpha=0.6,\n",
    "                   zorder=1)\n",
    "            \n",
    "            # Then plot the scatter points on top\n",
    "            ax.scatter(zoom_df.index, zoom_df[\"addr\"], \n",
    "                      color=pastel_blue,\n",
    "                      alpha=0.8, \n",
    "                      s=30,\n",
    "                      edgecolor=pastel_edge,\n",
    "                      linewidth=0.5,\n",
    "                      zorder=2)\n",
    "            \n",
    "            # Configure grid\n",
    "            ax.grid(True, linestyle='--', alpha=0.7, color='#E6E6E6')\n",
    "            \n",
    "            # Format y-axis to show hex values\n",
    "            def hex_formatter(x, p):\n",
    "                return f\"0x{int(x):x}\"\n",
    "            ax.yaxis.set_major_formatter(plt.FuncFormatter(hex_formatter))\n",
    "            \n",
    "            # Customize labels and title\n",
    "            ax.set_xlabel(\"Time\", fontsize=10, fontweight='medium')\n",
    "            ax.set_ylabel(\"Memory Address\", fontsize=10, fontweight='medium')\n",
    "            ax.set_title(f\"Page Fault Trace - {runid.program_name} {pct}%\\n(Zoomed View: 100000-100300)\", \n",
    "                        fontsize=12, \n",
    "                        fontweight='bold',\n",
    "                        pad=20)\n",
    "            \n",
    "            # Rotate x-axis labels for better readability\n",
    "            ax.tick_params(axis='x', rotation=45)\n",
    "            \n",
    "            # Set background color\n",
    "            ax.set_facecolor('#F8F8F8')\n",
    "            fig.patch.set_facecolor('white')\n",
    "            \n",
    "            # Adjust layout and save\n",
    "            fig.tight_layout()\n",
    "            save_path = (tl_out_path/str(runid)).absolute().as_posix() + \"_zoomed.pdf\"\n",
    "            fig.savefig(save_path, bbox_inches='tight', dpi=300)\n",
    "            plt.close(fig)\n",
    "            \n",
    "            return \"ok\"\n",
    "        else:\n",
    "            raise LookupError(f\"While looking at {bn}, found the following file in one of the grandchildren which doesn't seem to be the output of fltrace: {trace_output.absolute().as_posix()}\")"
   ]
  },
  {
   "cell_type": "code",
   "execution_count": 28,
   "metadata": {},
   "outputs": [
    {
     "name": "stdout",
     "output_type": "stream",
     "text": [
      "Starting processing of canneal's /home/garvalov/mlp2/data/data/parsec_raw_out/canneal/200_100\n",
      "Loaded data for canneal_200_100_59559. Starting preprocessing.\n"
     ]
    },
    {
     "data": {
      "application/vnd.jupyter.widget-view+json": {
       "model_id": "7f657a1f14cb4b0e9d8f9479730da4e8",
       "version_major": 2,
       "version_minor": 0
      },
      "text/plain": [
       "Translating iphex to int:   0%|          | 0/296847 [00:00<?, ?it/s]"
      ]
     },
     "metadata": {},
     "output_type": "display_data"
    },
    {
     "data": {
      "application/vnd.jupyter.widget-view+json": {
       "model_id": "e0c2380cdaab446ab19634913d3e34c0",
       "version_major": 2,
       "version_minor": 0
      },
      "text/plain": [
       "Splitting and translating st:   0%|          | 0/296847 [00:00<?, ?it/s]"
      ]
     },
     "metadata": {},
     "output_type": "display_data"
    },
    {
     "name": "stdout",
     "output_type": "stream",
     "text": [
      "Inspect! canneal 100/200: # of weird ips is 4/296847\n",
      "Splitting stacktraces (can take several minutes)\n"
     ]
    },
    {
     "name": "stderr",
     "output_type": "stream",
     "text": [
      "Finding all ip librairies..: 100%|██████████| 477/477 [00:00<00:00, 292711.49it/s]\n"
     ]
    },
    {
     "data": {
      "application/vnd.jupyter.widget-view+json": {
       "model_id": "d74df6e6f61e4af591887c8539061aa8",
       "version_major": 2,
       "version_minor": 0
      },
      "text/plain": [
       "Removing all ips before fltrace:   0%|          | 0/294137 [00:00<?, ?it/s]"
      ]
     },
     "metadata": {},
     "output_type": "display_data"
    },
    {
     "data": {
      "application/vnd.jupyter.widget-view+json": {
       "model_id": "d8b33852f5364733b9cbd4a902b29670",
       "version_major": 2,
       "version_minor": 0
      },
      "text/plain": [
       "Translating addrhex to int:   0%|          | 0/294137 [00:00<?, ?it/s]"
      ]
     },
     "metadata": {},
     "output_type": "display_data"
    },
    {
     "name": "stdout",
     "output_type": "stream",
     "text": [
      "Finished preprocessing data for canneal_200_100_59559%.\n"
     ]
    },
    {
     "data": {
      "text/plain": [
       "'ok'"
      ]
     },
     "execution_count": 28,
     "metadata": {},
     "output_type": "execute_result"
    }
   ],
   "source": [
    "\n",
    "process_grandchild(\"canneal\",Path(TO_PROCESS_CANNEAL))"
   ]
  },
  {
   "cell_type": "code",
   "execution_count": 20,
   "metadata": {},
   "outputs": [
    {
     "data": {
      "text/plain": [
       "['Solarize_Light2',\n",
       " '_classic_test_patch',\n",
       " '_mpl-gallery',\n",
       " '_mpl-gallery-nogrid',\n",
       " 'bmh',\n",
       " 'classic',\n",
       " 'dark_background',\n",
       " 'fast',\n",
       " 'fivethirtyeight',\n",
       " 'ggplot',\n",
       " 'grayscale',\n",
       " 'seaborn-v0_8',\n",
       " 'seaborn-v0_8-bright',\n",
       " 'seaborn-v0_8-colorblind',\n",
       " 'seaborn-v0_8-dark',\n",
       " 'seaborn-v0_8-dark-palette',\n",
       " 'seaborn-v0_8-darkgrid',\n",
       " 'seaborn-v0_8-deep',\n",
       " 'seaborn-v0_8-muted',\n",
       " 'seaborn-v0_8-notebook',\n",
       " 'seaborn-v0_8-paper',\n",
       " 'seaborn-v0_8-pastel',\n",
       " 'seaborn-v0_8-poster',\n",
       " 'seaborn-v0_8-talk',\n",
       " 'seaborn-v0_8-ticks',\n",
       " 'seaborn-v0_8-white',\n",
       " 'seaborn-v0_8-whitegrid',\n",
       " 'tableau-colorblind10']"
      ]
     },
     "execution_count": 20,
     "metadata": {},
     "output_type": "execute_result"
    }
   ],
   "source": [
    "plt.style.available"
   ]
  },
  {
   "cell_type": "code",
   "execution_count": 5,
   "metadata": {},
   "outputs": [
    {
     "name": "stdout",
     "output_type": "stream",
     "text": [
      "Starting processing of canneal's /home/garvalov/mlp2/data/data/parsec_raw_out/canneal/200_100Starting processing of canneal's /home/garvalov/mlp2/data/data/parsec_raw_out/canneal/200_200Starting processing of canneal's /home/garvalov/mlp2/data/data/parsec_raw_out/canneal/200_150Starting processing of canneal's /home/garvalov/mlp2/data/data/parsec_raw_out/canneal/200_50\n",
      "\n",
      "\n",
      "\n",
      "Loaded data for canneal_200_150_59957. Starting preprocessing.\n",
      "Loaded data for canneal_200_200_60344. Starting preprocessing.\n"
     ]
    },
    {
     "data": {
      "application/vnd.jupyter.widget-view+json": {
       "model_id": "105687d273c34608bd974cbcd876a3a3",
       "version_major": 2,
       "version_minor": 0
      },
      "text/plain": [
       "Translating iphex to int:   0%|          | 0/33717 [00:00<?, ?it/s]"
      ]
     },
     "metadata": {},
     "output_type": "display_data"
    },
    {
     "data": {
      "application/vnd.jupyter.widget-view+json": {
       "model_id": "61cd7995b8a840fdbb47b7e35d97e11f",
       "version_major": 2,
       "version_minor": 0
      },
      "text/plain": [
       "Translating iphex to int:   0%|          | 0/33717 [00:00<?, ?it/s]"
      ]
     },
     "metadata": {},
     "output_type": "display_data"
    },
    {
     "data": {
      "application/vnd.jupyter.widget-view+json": {
       "model_id": "9474b073a74f475a919248b13a252b9a",
       "version_major": 2,
       "version_minor": 0
      },
      "text/plain": [
       "Splitting and translating st:   0%|          | 0/33717 [00:00<?, ?it/s]"
      ]
     },
     "metadata": {},
     "output_type": "display_data"
    },
    {
     "data": {
      "application/vnd.jupyter.widget-view+json": {
       "model_id": "4990b2bbd94a403880dce18bb94dbc5a",
       "version_major": 2,
       "version_minor": 0
      },
      "text/plain": [
       "Splitting and translating st:   0%|          | 0/33717 [00:00<?, ?it/s]"
      ]
     },
     "metadata": {},
     "output_type": "display_data"
    },
    {
     "name": "stdout",
     "output_type": "stream",
     "text": [
      "Inspect! canneal 150/200: # of weird ips is 1/33717\n",
      "Inspect! canneal 200/200: # of weird ips is 1/33717\n",
      "Splitting stacktraces (can take several minutes)\n",
      "Splitting stacktraces (can take several minutes)\n"
     ]
    },
    {
     "name": "stderr",
     "output_type": "stream",
     "text": [
      "Finding all ip librairies..: 100%|██████████| 187/187 [00:00<00:00, 218356.03it/s]\n",
      "Finding all ip librairies..: 100%|██████████| 190/190 [00:00<00:00, 215849.88it/s]\n"
     ]
    },
    {
     "data": {
      "application/vnd.jupyter.widget-view+json": {
       "model_id": "7f9d3d9407274a2daecdfbc66020a28d",
       "version_major": 2,
       "version_minor": 0
      },
      "text/plain": [
       "Removing all ips before fltrace:   0%|          | 0/33201 [00:00<?, ?it/s]"
      ]
     },
     "metadata": {},
     "output_type": "display_data"
    },
    {
     "data": {
      "application/vnd.jupyter.widget-view+json": {
       "model_id": "a6aa6f2c1f724543acfaf7a188fe1538",
       "version_major": 2,
       "version_minor": 0
      },
      "text/plain": [
       "Removing all ips before fltrace:   0%|          | 0/33201 [00:00<?, ?it/s]"
      ]
     },
     "metadata": {},
     "output_type": "display_data"
    },
    {
     "name": "stdout",
     "output_type": "stream",
     "text": [
      "Loaded data for canneal_200_100_59559. Starting preprocessing.\n"
     ]
    },
    {
     "data": {
      "application/vnd.jupyter.widget-view+json": {
       "model_id": "76df8512907e450383e59ea7b67dc723",
       "version_major": 2,
       "version_minor": 0
      },
      "text/plain": [
       "Translating iphex to int:   0%|          | 0/296847 [00:00<?, ?it/s]"
      ]
     },
     "metadata": {},
     "output_type": "display_data"
    },
    {
     "data": {
      "application/vnd.jupyter.widget-view+json": {
       "model_id": "8b4bce87fdf54d48bc9ed350bb0c73b5",
       "version_major": 2,
       "version_minor": 0
      },
      "text/plain": [
       "Translating addrhex to int:   0%|          | 0/33201 [00:00<?, ?it/s]"
      ]
     },
     "metadata": {},
     "output_type": "display_data"
    },
    {
     "data": {
      "application/vnd.jupyter.widget-view+json": {
       "model_id": "ffe9304a7560451d8f159204b2f5adb4",
       "version_major": 2,
       "version_minor": 0
      },
      "text/plain": [
       "Translating addrhex to int:   0%|          | 0/33201 [00:00<?, ?it/s]"
      ]
     },
     "metadata": {},
     "output_type": "display_data"
    },
    {
     "name": "stdout",
     "output_type": "stream",
     "text": [
      "Finished preprocessing data for canneal_200_200_60344%.\n",
      "Finished preprocessing data for canneal_200_150_59957%.\n"
     ]
    },
    {
     "data": {
      "application/vnd.jupyter.widget-view+json": {
       "model_id": "10e05d265e1948b5adee6126de8b6205",
       "version_major": 2,
       "version_minor": 0
      },
      "text/plain": [
       "Splitting and translating st:   0%|          | 0/296847 [00:00<?, ?it/s]"
      ]
     },
     "metadata": {},
     "output_type": "display_data"
    },
    {
     "name": "stdout",
     "output_type": "stream",
     "text": [
      "Inspect! canneal 100/200: # of weird ips is 4/296847\n",
      "Splitting stacktraces (can take several minutes)\n"
     ]
    },
    {
     "name": "stderr",
     "output_type": "stream",
     "text": [
      "Finding all ip librairies..: 100%|██████████| 477/477 [00:00<00:00, 250367.04it/s]\n"
     ]
    },
    {
     "data": {
      "application/vnd.jupyter.widget-view+json": {
       "model_id": "d83d475c64984b15b104a2934cf3f2de",
       "version_major": 2,
       "version_minor": 0
      },
      "text/plain": [
       "Removing all ips before fltrace:   0%|          | 0/294137 [00:00<?, ?it/s]"
      ]
     },
     "metadata": {},
     "output_type": "display_data"
    },
    {
     "data": {
      "application/vnd.jupyter.widget-view+json": {
       "model_id": "b69ea5b134214dd9ba28d293023e4ed1",
       "version_major": 2,
       "version_minor": 0
      },
      "text/plain": [
       "Translating addrhex to int:   0%|          | 0/294137 [00:00<?, ?it/s]"
      ]
     },
     "metadata": {},
     "output_type": "display_data"
    },
    {
     "name": "stdout",
     "output_type": "stream",
     "text": [
      "Finished preprocessing data for canneal_200_100_59559%.\n",
      "Loaded data for canneal_200_50_58940. Starting preprocessing.\n"
     ]
    },
    {
     "data": {
      "application/vnd.jupyter.widget-view+json": {
       "model_id": "a7c8d666b7b549219bf4f319de25bb84",
       "version_major": 2,
       "version_minor": 0
      },
      "text/plain": [
       "Translating iphex to int:   0%|          | 0/11118235 [00:00<?, ?it/s]"
      ]
     },
     "metadata": {},
     "output_type": "display_data"
    },
    {
     "data": {
      "application/vnd.jupyter.widget-view+json": {
       "model_id": "0fb14d9d040d4059b01ad816c18047ac",
       "version_major": 2,
       "version_minor": 0
      },
      "text/plain": [
       "Splitting and translating st:   0%|          | 0/11118235 [00:00<?, ?it/s]"
      ]
     },
     "metadata": {},
     "output_type": "display_data"
    },
    {
     "name": "stdout",
     "output_type": "stream",
     "text": [
      "Inspect! canneal 50/200: # of weird ips is 311/11118235\n",
      "Splitting stacktraces (can take several minutes)\n"
     ]
    },
    {
     "name": "stderr",
     "output_type": "stream",
     "text": [
      "Finding all ip librairies..: 100%|██████████| 608/608 [00:00<00:00, 215930.30it/s]\n"
     ]
    },
    {
     "data": {
      "application/vnd.jupyter.widget-view+json": {
       "model_id": "c5ba89321fa44b5e922abf8da70ac7ad",
       "version_major": 2,
       "version_minor": 0
      },
      "text/plain": [
       "Removing all ips before fltrace:   0%|          | 0/11038259 [00:00<?, ?it/s]"
      ]
     },
     "metadata": {},
     "output_type": "display_data"
    },
    {
     "data": {
      "application/vnd.jupyter.widget-view+json": {
       "model_id": "fc412902c2304e96a4d5d411779c5e9d",
       "version_major": 2,
       "version_minor": 0
      },
      "text/plain": [
       "Translating addrhex to int:   0%|          | 0/11038259 [00:00<?, ?it/s]"
      ]
     },
     "metadata": {},
     "output_type": "display_data"
    },
    {
     "name": "stdout",
     "output_type": "stream",
     "text": [
      "Finished preprocessing data for canneal_200_50_58940%.\n",
      "All checks pass for canneal.\n"
     ]
    }
   ],
   "source": [
    "Path(TIMELINE_OUT).mkdir(parents=True,exist_ok=True)\n",
    "with Pool(5) as pool:\n",
    "        paths = list(Path(PARENT_DIR).iterdir())\n",
    "        pool.map(check_correct_children, paths)"
   ]
  },
  {
   "cell_type": "markdown",
   "metadata": {},
   "source": [
    "___"
   ]
  },
  {
   "cell_type": "code",
   "execution_count": 15,
   "metadata": {},
   "outputs": [
    {
     "name": "stderr",
     "output_type": "stream",
     "text": [
      "/tmp/ipykernel_1534905/816322983.py:60: FutureWarning: \n",
      "\n",
      "Passing `palette` without assigning `hue` is deprecated and will be removed in v0.14.0. Assign the `x` variable to `hue` and set `legend=False` for the same effect.\n",
      "\n",
      "  sns.boxplot(x='benchmark', y='Percentage of Unknown PCs', data=df, palette='husl')\n"
     ]
    },
    {
     "data": {
      "image/png": "[encoded data removed]",
      "text/plain": [
       "<Figure size 1000x600 with 1 Axes>"
      ]
     },
     "metadata": {},
     "output_type": "display_data"
    },
    {
     "name": "stdout",
     "output_type": "stream",
     "text": [
      "\n",
      "Average ratios:\n",
      "benchmark\n",
      "bodytrack        0.029234\n",
      "canneal          0.002519\n",
      "dedup            0.001805\n",
      "facesim          0.004963\n",
      "ferret           0.318641\n",
      "fluidanimate     0.001226\n",
      "raytrace         0.001971\n",
      "streamcluster    0.000000\n",
      "Name: Percentage of Unknown PCs, dtype: float64\n"
     ]
    },
    {
     "data": {
      "image/png": "[encoded data removed]",
      "text/plain": [
       "<Figure size 1000x600 with 1 Axes>"
      ]
     },
     "metadata": {},
     "output_type": "display_data"
    }
   ],
   "source": [
    "import pandas as pd\n",
    "import matplotlib.pyplot as plt\n",
    "import seaborn as sns\n",
    "\n",
    "# Extract data\n",
    "lines = \"\"\"Inspect! bodytrack 30/30: # of weird ips is 1/3314\n",
    "Inspect! bodytrack 6/30: # of weird ips is 2/10934\n",
    "Inspect! canneal 200/200: # of weird ips is 1/33717\n",
    "Inspect! bodytrack 7/30: # of weird ips is 4/10709\n",
    "Inspect! raytrace 100/400: # of weird ips is 1/60243\n",
    "Inspect! raytrace 84/400: # of weird ips is 2/64070\n",
    "Inspect! fluidanimate 500/500: # of weird ips is 1/78456\n",
    "Inspect! fluidanimate 250/500: # of weird ips is 2/78512\n",
    "Inspect! bodytrack 22/30: # of weird ips is 1/3314\n",
    "Inspect! facesim 500/500: # of weird ips is 6/86781\n",
    "Inspect! facesim 250/500: # of weird ips is 6/104118\n",
    "Inspect! bodytrack 15/30: # of weird ips is 1/3314\n",
    "Inspect! ferret 75/150: # of weird ips is 301/61174\n",
    "Inspect! canneal 150/200: # of weird ips is 1/33717\n",
    "Inspect! canneal 100/200: # of weird ips is 4/296847\n",
    "Inspect! raytrace 200/400: # of weird ips is 1/59111\n",
    "Inspect! raytrace 400/400: # of weird ips is 1/59114\n",
    "Inspect! fluidanimate 375/500: # of weird ips is 1/78457\n",
    "Inspect! facesim 375/500: # of weird ips is 6/87252\n",
    "Inspect! raytrace 300/400: # of weird ips is 1/59111\n",
    "Inspect! fluidanimate 100/500: # of weird ips is 2/410611\n",
    "Inspect! ferret 37/150: # of weird ips is 304/310137\n",
    "Inspect! facesim 100/500: # of weird ips is 6/247780\n",
    "Inspect! dedup 200/1000: # of weird ips is 1/56254\n",
    "Inspect! dedup 250/1000: # of weird ips is 1/56353\n",
    "Inspect! fluidanimate 125/500: # of weird ips is 2/366391\n",
    "Inspect! facesim 125/500: # of weird ips is 6/211357\n",
    "Inspect! dedup 750/1000: # of weird ips is 1/54855\n",
    "Inspect! dedup 500/1000: # of weird ips is 1/54743\n",
    "Inspect! ferret 30/150: # of weird ips is 303/1359877\n",
    "Inspect! dedup 1000/1000: # of weird ips is 1/54848\n",
    "Inspect! streamcluster 25/50: # of weird ips is 0/2289\n",
    "Inspect! streamcluster 12/50: # of weird ips is 0/2291\n",
    "Inspect! streamcluster 10/50: # of weird ips is 0/2289\n",
    "Inspect! streamcluster 37/50: # of weird ips is 0/2291\n",
    "Inspect! streamcluster 50/50: # of weird ips is 0/2293\n",
    "Inspect! ferret 150/150: # of weird ips is 300/61159\n",
    "Inspect! ferret 112/150: # of weird ips is 300/61182\n",
    "Inspect! canneal 50/200: # of weird ips is 311/11118235\n",
    "\"\"\".strip().split('\\n')\n",
    "\n",
    "# Parse into dataframe\n",
    "data = []\n",
    "for line in lines:\n",
    "    parts = line.split()\n",
    "    benchmark = parts[1]\n",
    "    weird, total = map(int, parts[-1].split('/'))\n",
    "    ratio = 100*weird/total\n",
    "    data.append({'benchmark': benchmark, 'Percentage of Unknown PCs': ratio})\n",
    "\n",
    "df = pd.DataFrame(data)\n",
    "\n",
    "# Create plot\n",
    "plt.figure(figsize=(10, 6))\n",
    "sns.boxplot(x='benchmark', y='Percentage of Unknown PCs', data=df, palette='husl')\n",
    "plt.title('Boxplot of Percentage of Unknown PCs by Benchmark')\n",
    "plt.xlabel('Benchmark')\n",
    "plt.xticks(rotation=45)\n",
    "plt.tight_layout()\n",
    "plt.savefig('unknown_pcs_boxplot.pdf', dpi=300, bbox_inches='tight')\n",
    "plt.show()\n",
    "\n",
    "# Print average ratios\n",
    "print(\"\\nAverage ratios:\")\n",
    "print(df.groupby('benchmark')['Percentage of Unknown PCs'].mean())\n",
    "\n",
    "plt.figure(figsize=(10, 6))\n",
    "means = df.groupby('benchmark')['Percentage of Unknown PCs'].mean()\n",
    "means.plot(kind='bar', color=sns.color_palette('husl', n_colors=len(means)))\n",
    "plt.title('Mean Percentage of Unknown PCs by Benchmark')\n",
    "plt.xlabel('Benchmark')\n",
    "plt.ylabel('Mean Percentage of Unknown PCs')\n",
    "plt.xticks(rotation=45)\n",
    "plt.tight_layout()\n",
    "plt.savefig('unknown_pcs_means.pdf', dpi=300, bbox_inches='tight')\n",
    "plt.show()"
   ]
  },
  {
   "cell_type": "code",
   "execution_count": null,
   "metadata": {},
   "outputs": [],
   "source": []
  },
  {
   "cell_type": "code",
   "execution_count": null,
   "metadata": {},
   "outputs": [],
   "source": []
  }
 ],
 "metadata": {
  "kernelspec": {
   "display_name": "venv",
   "language": "python",
   "name": "python3"
  },
  "language_info": {
   "codemirror_mode": {
    "name": "ipython",
    "version": 3
   },
   "file_extension": ".py",
   "mimetype": "text/x-python",
   "name": "python",
   "nbconvert_exporter": "python",
   "pygments_lexer": "ipython3",
   "version": "3.10.12"
  }
 },
 "nbformat": 4,
 "nbformat_minor": 2
}
