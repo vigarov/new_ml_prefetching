{
 "cells": [
  {
   "cell_type": "markdown",
   "metadata": {},
   "source": [
    "# Notebook to handle data analysis of raw fltrace traces"
   ]
  },
  {
   "cell_type": "markdown",
   "metadata": {},
   "source": [
    "## 0. Prerequisites\n",
    "1. The traces obtained using `fltrace record -M <M_value> -L <L_value> -- program_name`. The parent folder of the traces is designed in the `PARENT_FOLDER_PATH` constant. Inside the parent folder should be several children folders named after benchmark/program traced. Inside each children folder should be grandchildren folders, one per each `(M,L)` pair. Then, inside each grandchildren folder should be the output files of fltrace, that is `fltrace-data-faults*.out`, `fltrace-data-procmaps*.out`, and (optionally) `fltrace-data-stats*.out`. \n",
    "\n",
    "    One example hierarchy is \n",
    "\n",
    "    ```\n",
    "    parent/                                   \n",
    "    ├── canneal/                              \n",
    "    ┆   ├──200_50/                            \n",
    "    ┆   ┆   ├──fltrace-data-faults-56090-1.out\n",
    "    ┆   ┆   ├──fltrace-data-procmaps-56090.out\n",
    "    ┆   ┆   └──fltrace-data-stats-56090.out   \n",
    "    ┆   ├──200_100/                           \n",
    "    ┆   ┆   ├──fltrace-data-faults-55308-1.out\n",
    "    ┆   ┆   ├──fltrace-data-procmaps-55308.out\n",
    "    ┆   ┆   └──fltrace-data-stats-55308.out   \n",
    "    ┆   ├──200_150/                           \n",
    "    ┆   ┆   ├──...                            \n",
    "    ┆   └──200_200/                           \n",
    "    ┆       ├──...                            \n",
    "    └── fludanimate/                          \n",
    "        ├──...                                \n",
    "    ```\n",
    "    See [the fltrace guide](../data/fltrace.md) to get information about how to get `fltrace` running, as well as how to extend/fix it to get more data. \n",
    "\n",
    "2. The objectdumps (`objdump -d /path/to/lib_or_executable_name > lib_or_executable_name`) of all relevant librairies accessed by the traced programs. The folder containing all the objdumps is designed in the `OBJDUMP_FOLDER_PATH` constant. That is, if a library/executable is present in one of the `procmaps` of one of the trace runs, its objdump should be in this directory.\n",
    "\n",
    "    One example hierarchy is \n",
    "\n",
    "    ```\n",
    "    objdumps/               \n",
    "    ├── canneal             \n",
    "    ├── fludanimate         \n",
    "    ├── fltrace.so          \n",
    "    ├── ld-linux-x86-64.so.2\n",
    "    ├── libc.so.6           \n",
    "    ├── libgcc_s.so.1       \n",
    "    ├── libm.so.6           \n",
    "    └── libstdc++.so.6.0.30 \n",
    "    ```\n"
   ]
  },
  {
   "cell_type": "markdown",
   "metadata": {},
   "source": [
    "### Constants"
   ]
  },
  {
   "cell_type": "code",
   "execution_count": null,
   "metadata": {
    "vscode": {
     "languageId": "plaintext"
    }
   },
   "outputs": [],
   "source": [
    "PARENT_FOLDER_PATH = \"../data/parsec_raw_out/\"\n",
    "OBJDUMP_FOLDER_PATH = \"../data/objdumps/\""
   ]
  }
 ],
 "metadata": {
  "language_info": {
   "name": "python"
  }
 },
 "nbformat": 4,
 "nbformat_minor": 2
}
