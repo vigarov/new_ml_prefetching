{
 "cells": [
  {
   "cell_type": "markdown",
   "metadata": {},
   "source": [
    "# Predictions\n",
    "\n",
    "This notebook will use several prediction techniques and compare each to the other."
   ]
  },
  {
   "cell_type": "markdown",
   "metadata": {},
   "source": []
  },
  {
   "cell_type": "code",
   "execution_count": 1,
   "metadata": {},
   "outputs": [],
   "source": [
    "%load_ext autoreload\n",
    "%autoreload 2\n",
    "%matplotlib inline"
   ]
  },
  {
   "cell_type": "code",
   "execution_count": 2,
   "metadata": {},
   "outputs": [],
   "source": [
    "import numpy as np\n",
    "import pandas as pd\n",
    "from utils.prepro import * "
   ]
  },
  {
   "cell_type": "code",
   "execution_count": 3,
   "metadata": {},
   "outputs": [],
   "source": [
    "# Constants\n",
    "\n",
    "_TEST_TRACE_BASE_PATH = \"../data/data/parsec_raw_out/canneal/200_50/\"\n",
    "TEST_FAULT_PATH = _TEST_TRACE_BASE_PATH+\"fltrace-data-faults-58940-1.out\"\n",
    "TEST_PROCMAP_PATH = _TEST_TRACE_BASE_PATH+\"fltrace-data-procmaps-58940.out\"\n",
    "runid = RunIdentifier(\"canneal\",200,50,58940)"
   ]
  },
  {
   "cell_type": "markdown",
   "metadata": {},
   "source": [
    "# Data loading"
   ]
  },
  {
   "cell_type": "code",
   "execution_count": 4,
   "metadata": {},
   "outputs": [
    {
     "data": {
      "text/html": [
       "<div>\n",
       "<style scoped>\n",
       "    .dataframe tbody tr th:only-of-type {\n",
       "        vertical-align: middle;\n",
       "    }\n",
       "\n",
       "    .dataframe tbody tr th {\n",
       "        vertical-align: top;\n",
       "    }\n",
       "\n",
       "    .dataframe thead th {\n",
       "        text-align: right;\n",
       "    }\n",
       "</style>\n",
       "<table border=\"1\" class=\"dataframe\">\n",
       "  <thead>\n",
       "    <tr style=\"text-align: right;\">\n",
       "      <th></th>\n",
       "      <th>tstamp</th>\n",
       "      <th>ip</th>\n",
       "      <th>addr</th>\n",
       "      <th>pages</th>\n",
       "      <th>flags</th>\n",
       "      <th>tid</th>\n",
       "      <th>regs</th>\n",
       "      <th>trace</th>\n",
       "    </tr>\n",
       "  </thead>\n",
       "  <tbody>\n",
       "    <tr>\n",
       "      <th>0</th>\n",
       "      <td>1.728157e+09</td>\n",
       "      <td>7a18c3235bcd</td>\n",
       "      <td>7a1899600000</td>\n",
       "      <td>1</td>\n",
       "      <td>33</td>\n",
       "      <td>58940</td>\n",
       "      <td>134246071009280!14!2097152!8070450532247928832...</td>\n",
       "      <td>0x7a18c321433c|0x7a18c2a42520|0x7a18c3235bcd|0...</td>\n",
       "    </tr>\n",
       "    <tr>\n",
       "      <th>1</th>\n",
       "      <td>1.728157e+09</td>\n",
       "      <td>7a18c322f679</td>\n",
       "      <td>7a1899603000</td>\n",
       "      <td>1</td>\n",
       "      <td>33</td>\n",
       "      <td>58940</td>\n",
       "      <td>134246071011712!134246823731956!13424607100947...</td>\n",
       "      <td>0x7a18c321433c|0x7a18c2a42520|0x7a18c322f679|0...</td>\n",
       "    </tr>\n",
       "    <tr>\n",
       "      <th>2</th>\n",
       "      <td>1.728157e+09</td>\n",
       "      <td>7a18c2ba0fa0</td>\n",
       "      <td>7a1899604000</td>\n",
       "      <td>1</td>\n",
       "      <td>33</td>\n",
       "      <td>58940</td>\n",
       "      <td>134246071011712!134246823731956!1!0!1!13424607...</td>\n",
       "      <td>0x7a18c321433c|0x7a18c2a42520|0x7a18c2ba0fa0|0...</td>\n",
       "    </tr>\n",
       "    <tr>\n",
       "      <th>3</th>\n",
       "      <td>1.728157e+09</td>\n",
       "      <td>7a18c2ba0fa0</td>\n",
       "      <td>7a1899605000</td>\n",
       "      <td>1</td>\n",
       "      <td>33</td>\n",
       "      <td>58940</td>\n",
       "      <td>134246071011712!134246823731956!2!0!0!13424607...</td>\n",
       "      <td>0x7a18c321433c|0x7a18c2a42520|0x7a18c2ba0fa0|0...</td>\n",
       "    </tr>\n",
       "    <tr>\n",
       "      <th>4</th>\n",
       "      <td>1.728157e+09</td>\n",
       "      <td>7a18c2ba0fa0</td>\n",
       "      <td>7a1899606000</td>\n",
       "      <td>1</td>\n",
       "      <td>33</td>\n",
       "      <td>58940</td>\n",
       "      <td>134246071011712!134246823731956!3!0!0!13424607...</td>\n",
       "      <td>0x7a18c321433c|0x7a18c2a42520|0x7a18c2ba0fa0|0...</td>\n",
       "    </tr>\n",
       "  </tbody>\n",
       "</table>\n",
       "</div>"
      ],
      "text/plain": [
       "         tstamp            ip          addr  pages  flags    tid  \\\n",
       "0  1.728157e+09  7a18c3235bcd  7a1899600000      1     33  58940   \n",
       "1  1.728157e+09  7a18c322f679  7a1899603000      1     33  58940   \n",
       "2  1.728157e+09  7a18c2ba0fa0  7a1899604000      1     33  58940   \n",
       "3  1.728157e+09  7a18c2ba0fa0  7a1899605000      1     33  58940   \n",
       "4  1.728157e+09  7a18c2ba0fa0  7a1899606000      1     33  58940   \n",
       "\n",
       "                                                regs  \\\n",
       "0  134246071009280!14!2097152!8070450532247928832...   \n",
       "1  134246071011712!134246823731956!13424607100947...   \n",
       "2  134246071011712!134246823731956!1!0!1!13424607...   \n",
       "3  134246071011712!134246823731956!2!0!0!13424607...   \n",
       "4  134246071011712!134246823731956!3!0!0!13424607...   \n",
       "\n",
       "                                               trace  \n",
       "0  0x7a18c321433c|0x7a18c2a42520|0x7a18c3235bcd|0...  \n",
       "1  0x7a18c321433c|0x7a18c2a42520|0x7a18c322f679|0...  \n",
       "2  0x7a18c321433c|0x7a18c2a42520|0x7a18c2ba0fa0|0...  \n",
       "3  0x7a18c321433c|0x7a18c2a42520|0x7a18c2ba0fa0|0...  \n",
       "4  0x7a18c321433c|0x7a18c2a42520|0x7a18c2ba0fa0|0...  "
      ]
     },
     "execution_count": 4,
     "metadata": {},
     "output_type": "execute_result"
    }
   ],
   "source": [
    "df = pd.read_csv(TEST_FAULT_PATH)\n",
    "df.head()"
   ]
  },
  {
   "cell_type": "code",
   "execution_count": null,
   "metadata": {},
   "outputs": [
    {
     "name": "stdout",
     "output_type": "stream",
     "text": [
      "Inspect! canneal_200_50_58940: # of weird ips is 311\n"
     ]
    }
   ],
   "source": [
    "df,_,epci = preprocess_df(runid,df,Path(TEST_PROCMAP_PATH),get_stats=False,add_missing_ips_to_st=True)"
   ]
  },
  {
   "cell_type": "code",
   "execution_count": null,
   "metadata": {},
   "outputs": [],
   "source": []
  }
 ],
 "metadata": {
  "kernelspec": {
   "display_name": "venv",
   "language": "python",
   "name": "python3"
  },
  "language_info": {
   "codemirror_mode": {
    "name": "ipython",
    "version": 3
   },
   "file_extension": ".py",
   "mimetype": "text/x-python",
   "name": "python",
   "nbconvert_exporter": "python",
   "pygments_lexer": "ipython3",
   "version": "3.10.12"
  }
 },
 "nbformat": 4,
 "nbformat_minor": 2
}
